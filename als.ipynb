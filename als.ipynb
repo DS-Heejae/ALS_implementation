{
 "cells": [
  {
   "cell_type": "markdown",
   "metadata": {},
   "source": [
    "## ALS Implementation\n",
    "- This notebook |is implementation of ALS algorithm from \"collaborative filtering for implicit dataset\"\n",
    "\n",
    "### Initialize parameters\n",
    "- r_lambda: normalization parameter  \n",
    "- alpha: confidence level  \n",
    "- nf: dimension of latent vector of each user and item  \n",
    "- initilzed values(40, 200, 40) are the best parameters from the paper"
   ]
  },
  {
   "cell_type": "code",
   "execution_count": 98,
   "metadata": {},
   "outputs": [],
   "source": [
    "r_lambda = 40\n",
    "nf = 200\n",
    "alpha = 40"
   ]
  },
  {
   "cell_type": "markdown",
   "metadata": {},
   "source": [
    "### Initialize original rating matrix data\n",
    "- make sample (10 x 11) matrix\n",
    "- 10 : num of users\n",
    "- 11 : num of items"
   ]
  },
  {
   "cell_type": "code",
   "execution_count": 99,
   "metadata": {},
   "outputs": [
    {
     "name": "stdout",
     "output_type": "stream",
     "text": [
      "(10, 11)\n"
     ]
    }
   ],
   "source": [
    "import numpy as np\n",
    "\n",
    "# lambda: for normalization\n",
    "# alpha: manipulating confidence level (1 + )\n",
    "# 사용자와 아이템 각각의 \n",
    "\n",
    "\n",
    "# 샘플로 사용할 사용자 평점 행렬 (10 x 11)\n",
    "R = np.array([[0, 0, 0, 4, 4, 0, 0, 0, 0, 0, 0],\n",
    "              [0, 0, 0, 0, 0, 0, 0, 0, 0, 0, 1],\n",
    "              [0, 0, 0, 0, 0, 0, 0, 1, 0, 4, 0],\n",
    "              [0, 3, 4, 0, 3, 0, 0, 2, 2, 0, 0],\n",
    "              [0, 5, 5, 0, 0, 0, 0, 0, 0, 0, 0],\n",
    "              [0, 0, 0, 0, 0, 0, 5, 0, 0, 5, 0],\n",
    "              [0, 0, 4, 0, 0, 0, 0, 0, 0, 0, 5],\n",
    "              [0, 0, 0, 0, 0, 4, 0, 0, 0, 0, 4],\n",
    "              [0, 0, 0, 0, 0, 0, 5, 0, 0, 5, 0],\n",
    "              [0, 0, 0, 3, 0, 0, 0, 0, 4, 5, 0]])\n",
    "print(R.shape)"
   ]
  },
  {
   "cell_type": "markdown",
   "metadata": {},
   "source": [
    "### Initialize user and item latent factor matrix\n",
    "- nu: num of users (10)\n",
    "- ni: num of items (11)\n",
    "- nf: dimension of latent vector"
   ]
  },
  {
   "cell_type": "code",
   "execution_count": 100,
   "metadata": {},
   "outputs": [
    {
     "name": "stdout",
     "output_type": "stream",
     "text": [
      "[[0.00457303 0.00424385 0.00616191 ... 0.0055276  0.00441167 0.0032725 ]\n",
      " [0.00197897 0.00110453 0.00558329 ... 0.00915551 0.00749223 0.006756  ]\n",
      " [0.00549164 0.00358061 0.00012187 ... 0.00723139 0.00441681 0.00632714]\n",
      " ...\n",
      " [0.00380493 0.005744   0.0024226  ... 0.00737873 0.00131759 0.00736437]\n",
      " [0.00115033 0.00066236 0.00046558 ... 0.00804704 0.00986983 0.00343679]\n",
      " [0.00504484 0.00616501 0.00130519 ... 0.00236188 0.00136329 0.00666413]]\n"
     ]
    }
   ],
   "source": [
    "nu = R.shape[0]\n",
    "ni = R.shape[1]\n",
    "\n",
    "# initialize X and Y with very small values\n",
    "X = np.random.rand(nu, nf) * 0.01\n",
    "Y = np.random.rand(ni, nf) * 0.01\n",
    "\n",
    "print(X)"
   ]
  },
  {
   "cell_type": "markdown",
   "metadata": {},
   "source": [
    "### Initialize Binary Rating Matrix P\n",
    "- Convert original rating matrix R into P\n",
    "- Pui = 1 if Rui > 0\n",
    "- Pui = 0 if Rui = 0"
   ]
  },
  {
   "cell_type": "code",
   "execution_count": 101,
   "metadata": {},
   "outputs": [
    {
     "name": "stdout",
     "output_type": "stream",
     "text": [
      "[[0 0 0 1 1 0 0 0 0 0 0]\n",
      " [0 0 0 0 0 0 0 0 0 0 1]\n",
      " [0 0 0 0 0 0 0 1 0 1 0]\n",
      " [0 1 1 0 1 0 0 1 1 0 0]\n",
      " [0 1 1 0 0 0 0 0 0 0 0]\n",
      " [0 0 0 0 0 0 1 0 0 1 0]\n",
      " [0 0 1 0 0 0 0 0 0 0 1]\n",
      " [0 0 0 0 0 1 0 0 0 0 1]\n",
      " [0 0 0 0 0 0 1 0 0 1 0]\n",
      " [0 0 0 1 0 0 0 0 1 1 0]]\n"
     ]
    }
   ],
   "source": [
    "P = np.copy(R)\n",
    "P[P > 0] = 1\n",
    "print(P)"
   ]
  },
  {
   "cell_type": "markdown",
   "metadata": {},
   "source": [
    "### Initialize Confidence Matrix C\n",
    "- Cui = 1 + alpha * Rui\n",
    "- Cui means confidence level of certain rating data"
   ]
  },
  {
   "cell_type": "code",
   "execution_count": 102,
   "metadata": {},
   "outputs": [
    {
     "name": "stdout",
     "output_type": "stream",
     "text": [
      "[[  1   1   1 161 161   1   1   1   1   1   1]\n",
      " [  1   1   1   1   1   1   1   1   1   1  41]\n",
      " [  1   1   1   1   1   1   1  41   1 161   1]\n",
      " [  1 121 161   1 121   1   1  81  81   1   1]\n",
      " [  1 201 201   1   1   1   1   1   1   1   1]\n",
      " [  1   1   1   1   1   1 201   1   1 201   1]\n",
      " [  1   1 161   1   1   1   1   1   1   1 201]\n",
      " [  1   1   1   1   1 161   1   1   1   1 161]\n",
      " [  1   1   1   1   1   1 201   1   1 201   1]\n",
      " [  1   1   1 121   1   1   1   1 161 201   1]]\n"
     ]
    }
   ],
   "source": [
    "C = 1 + alpha * R\n",
    "print(C)"
   ]
  },
  {
   "cell_type": "markdown",
   "metadata": {},
   "source": [
    "### Set up loss function\n",
    "- C: confidence matrix\n",
    "- P: binary rating matrix\n",
    "- X: user latent matrix\n",
    "- Y: item latent matrix\n",
    "- r_lambda: regularization lambda\n",
    "- xTy: predict matrix  \n",
    "  \n",
    "- Total_loss = (confidence_level * predict loss) + regularization loss"
   ]
  },
  {
   "cell_type": "code",
   "execution_count": 103,
   "metadata": {},
   "outputs": [],
   "source": [
    "def loss_function(C, P, xTy, X, Y, r_lambda):\n",
    "    predict_error = np.square(P - xTy)\n",
    "    confidence_error = np.sum(C * predict_error)\n",
    "    regularization = r_lambda * (np.sum(np.square(X)) + np.sum(np.square(Y)))\n",
    "    total_loss = confidence_error + regularization\n",
    "    return np.sum(predict_error), confidence_error, regularization, total_loss"
   ]
  },
  {
   "cell_type": "markdown",
   "metadata": {},
   "source": [
    "### Optimization Function for user and item\n",
    "- X[u] = (yTCuy + lambda*I)^-1yTCuy\n",
    "- Y[i] = (xTCix + lambda*I)^-1xTCix\n",
    "- two formula is the same when it changes X to Y and u to i"
   ]
  },
  {
   "cell_type": "code",
   "execution_count": 104,
   "metadata": {},
   "outputs": [],
   "source": [
    "def optimize_user(X, Y, C, P, nu, nf, r_lambda):\n",
    "    yT = np.transpose(Y)\n",
    "    for u in range(nu):\n",
    "        Cu = np.diag(C[u])\n",
    "        yT_Cu_y = np.matmul(np.matmul(yT, Cu), Y)\n",
    "        lI = np.dot(r_lambda, np.identity(nf))\n",
    "        yT_Cu_pu = np.matmul(np.matmul(yT, Cu), P[u])\n",
    "        X[u] = np.linalg.solve(yT_Cu_y + lI, yT_Cu_pu)\n",
    "\n",
    "def optimize_item(X, Y, C, P, ni, nf, r_lambda):\n",
    "    xT = np.transpose(X)\n",
    "    for i in range(ni):\n",
    "        Ci = np.diag(C[:, i])\n",
    "        xT_Ci_x = np.matmul(np.matmul(xT, Ci), X)\n",
    "        lI = np.dot(r_lambda, np.identity(nf))\n",
    "        xT_Ci_pi = np.matmul(np.matmul(xT, Ci), P[:, i])\n",
    "        Y[i] = np.linalg.solve(xT_Ci_x + lI, xT_Ci_pi)"
   ]
  },
  {
   "cell_type": "markdown",
   "metadata": {},
   "source": [
    "### Train\n",
    "- usually ALS algorithm repeat train steps for 10 ~ 15 times"
   ]
  },
  {
   "cell_type": "code",
   "execution_count": 105,
   "metadata": {},
   "outputs": [
    {
     "name": "stdout",
     "output_type": "stream",
     "text": [
      "----------------step 0----------------\n",
      "predict error: 22.767452\n",
      "confidence error: 3466.937317\n",
      "regularization: 5.636577\n",
      "total loss: 3472.573894\n",
      "----------------step 1----------------\n",
      "predict error: 31.023025\n",
      "confidence error: 296.327809\n",
      "regularization: 641.240713\n",
      "total loss: 937.568522\n",
      "----------------step 2----------------\n",
      "predict error: 34.018641\n",
      "confidence error: 139.069458\n",
      "regularization: 651.405197\n",
      "total loss: 790.474655\n",
      "----------------step 3----------------\n",
      "predict error: 32.074433\n",
      "confidence error: 120.069403\n",
      "regularization: 650.898109\n",
      "total loss: 770.967512\n",
      "----------------step 4----------------\n",
      "predict error: 29.512463\n",
      "confidence error: 109.299027\n",
      "regularization: 653.525673\n",
      "total loss: 762.824700\n",
      "----------------step 5----------------\n",
      "predict error: 27.060229\n",
      "confidence error: 102.230607\n",
      "regularization: 656.474772\n",
      "total loss: 758.705379\n",
      "----------------step 6----------------\n",
      "predict error: 25.016805\n",
      "confidence error: 97.437625\n",
      "regularization: 658.928086\n",
      "total loss: 756.365710\n",
      "----------------step 7----------------\n",
      "predict error: 23.442905\n",
      "confidence error: 94.190686\n",
      "regularization: 660.770057\n",
      "total loss: 754.960743\n",
      "----------------step 8----------------\n",
      "predict error: 22.284994\n",
      "confidence error: 92.007313\n",
      "regularization: 662.092210\n",
      "total loss: 754.099523\n",
      "----------------step 9----------------\n",
      "predict error: 21.454691\n",
      "confidence error: 90.546515\n",
      "regularization: 663.021474\n",
      "total loss: 753.567989\n",
      "----------------step 10----------------\n",
      "predict error: 20.867422\n",
      "confidence error: 89.570690\n",
      "regularization: 663.667698\n",
      "total loss: 753.238388\n",
      "----------------step 11----------------\n",
      "predict error: 20.455195\n",
      "confidence error: 88.918571\n",
      "regularization: 664.113910\n",
      "total loss: 753.032480\n",
      "----------------step 12----------------\n",
      "predict error: 20.167422\n",
      "confidence error: 88.482663\n",
      "regularization: 664.419671\n",
      "total loss: 752.902334\n",
      "----------------step 13----------------\n",
      "predict error: 19.967775\n",
      "confidence error: 88.191857\n",
      "regularization: 664.626891\n",
      "total loss: 752.818748\n",
      "----------------step 14----------------\n",
      "predict error: 19.830538\n",
      "confidence error: 87.999084\n",
      "regularization: 664.764920\n",
      "total loss: 752.764004\n",
      "final predict\n",
      "[array([[ 0.        ,  0.7213401 ,  0.68235019,  0.8576162 ,  0.83827723,\n",
      "         0.09239648,  0.58977576,  0.68720774,  0.81166324,  0.81802531,\n",
      "         0.30765598],\n",
      "       [ 0.        ,  0.3361484 ,  0.41909192,  0.10608421,  0.15560257,\n",
      "         0.39303202, -0.02675532,  0.14828855,  0.13284078,  0.03463808,\n",
      "         0.4837343 ],\n",
      "       [ 0.        ,  0.46243844,  0.42946834,  0.63028311,  0.58534636,\n",
      "         0.03177001,  0.7517364 ,  0.56616991,  0.62686475,  0.86784737,\n",
      "         0.16049371],\n",
      "       [ 0.        ,  0.92285236,  0.94187576,  0.89650102,  0.90838244,\n",
      "         0.3563045 ,  0.60756749,  0.77780712,  0.87870053,  0.86042895,\n",
      "         0.62460443],\n",
      "       [ 0.        ,  0.84981068,  0.92676941,  0.62501363,  0.68101786,\n",
      "         0.53344484,  0.26330552,  0.57464173,  0.62942323,  0.4788263 ,\n",
      "         0.77920821],\n",
      "       [ 0.        ,  0.29236108,  0.24197338,  0.54119403,  0.46961086,\n",
      "        -0.08184888,  0.88182444,  0.51154855,  0.55064509,  0.93896817,\n",
      "        -0.00732   ],\n",
      "       [ 0.        ,  0.74376899,  0.8749514 ,  0.37604512,  0.45811821,\n",
      "         0.68817876,  0.07352049,  0.40765911,  0.41042402,  0.2330001 ,\n",
      "         0.89526845],\n",
      "       [ 0.        ,  0.56340473,  0.73794323,  0.08895129,  0.18834466,\n",
      "         0.78203442, -0.1124117 ,  0.20273044,  0.15151988, -0.02678813,\n",
      "         0.92869513],\n",
      "       [ 0.        ,  0.29236108,  0.24197338,  0.54119403,  0.46961086,\n",
      "        -0.08184888,  0.88182444,  0.51154855,  0.55064509,  0.93896817,\n",
      "        -0.00732   ],\n",
      "       [ 0.        ,  0.68684109,  0.6415058 ,  0.86952565,  0.83246496,\n",
      "         0.05966073,  0.75878686,  0.72385157,  0.83634861,  0.96332154,\n",
      "         0.26036486]])]\n"
     ]
    }
   ],
   "source": [
    "predict_errors = []\n",
    "confidence_errors = []\n",
    "regularization_list = []\n",
    "total_losses = []\n",
    "\n",
    "for i in range(15):\n",
    "    if i!=0:   \n",
    "        optimize_user(X, Y, C, P, nu, nf, r_lambda)\n",
    "        optimize_item(X, Y, C, P, ni, nf, r_lambda)\n",
    "    predict = np.matmul(X, np.transpose(Y))\n",
    "    predict_error, confidence_error, regularization, total_loss = loss_function(C, P, predict, X, Y, r_lambda)\n",
    "    \n",
    "    predict_errors.append(predict_error)\n",
    "    confidence_errors.append(confidence_error)\n",
    "    regularization_list.append(regularization)\n",
    "    total_losses.append(total_loss)\n",
    "    \n",
    "    print('----------------step %d----------------' % i)\n",
    "    print(\"predict error: %f\" % predict_error)\n",
    "    print(\"confidence error: %f\" % confidence_error)\n",
    "    print(\"regularization: %f\" % regularization)\n",
    "    print(\"total loss: %f\" % total_loss)\n",
    "    \n",
    "predict = np.matmul(X, np.transpose(Y))\n",
    "print('final predict')\n",
    "print([predict])"
   ]
  },
  {
   "cell_type": "code",
   "execution_count": 106,
   "metadata": {},
   "outputs": [
    {
     "data": {
      "text/plain": [
       "<Figure size 432x288 with 0 Axes>"
      ]
     },
     "metadata": {},
     "output_type": "display_data"
    },
    {
     "data": {
      "image/png": "[encoded data removed]",
      "text/plain": [
       "<Figure size 720x720 with 4 Axes>"
      ]
     },
     "metadata": {
      "needs_background": "light"
     },
     "output_type": "display_data"
    }
   ],
   "source": [
    "from matplotlib import pyplot as plt\n",
    "%matplotlib inline\n",
    "\n",
    "plt.subplots_adjust(wspace=100.0, hspace=20.0)\n",
    "fig = plt.figure()\n",
    "fig.set_figheight(10)\n",
    "fig.set_figwidth(10)\n",
    "predict_error_line = fig.add_subplot(2, 2, 1)\n",
    "confidence_error_line = fig.add_subplot(2, 2, 2)\n",
    "regularization_error_line = fig.add_subplot(2, 2, 3)\n",
    "total_loss_line = fig.add_subplot(2, 2, 4)\n",
    "\n",
    "predict_error_line.set_title(\"Predict Error\") \n",
    "predict_error_line.plot(predict_errors)\n",
    "\n",
    "confidence_error_line.set_title(\"Confidence Error\")\n",
    "confidence_error_line.plot(confidence_errors)\n",
    "\n",
    "regularization_error_line.set_title(\"Regularization\")\n",
    "regularization_error_line.plot(regularization_list)\n",
    "\n",
    "total_loss_line.set_title(\"Total Loss\")\n",
    "total_loss_line.plot(total_losses)\n",
    "plt.show()"
   ]
  },
  {
   "cell_type": "code",
   "execution_count": null,
   "metadata": {},
   "outputs": [],
   "source": []
  }
 ],
 "metadata": {
  "kernelspec": {
   "display_name": "Python 3",
   "language": "python",
   "name": "python3"
  },
  "language_info": {
   "codemirror_mode": {
    "name": "ipython",
    "version": 3
   },
   "file_extension": ".py",
   "mimetype": "text/x-python",
   "name": "python",
   "nbconvert_exporter": "python",
   "pygments_lexer": "ipython3",
   "version": "3.7.1"
  }
 },
 "nbformat": 4,
 "nbformat_minor": 2
}
